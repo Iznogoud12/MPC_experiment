{
 "cells": [
  {
   "cell_type": "markdown",
   "metadata": {},
   "source": [
    "Strategy-proof monetary anchoring \n",
    "============\n",
    "*Please allow Binder to be loaded (<1 min), then you can look at the code, change parameters and run cell by cell as in any Jupyter Notebook (Maj+Enter to run each cell once, or use menu shortcut to run all cells under Cell > \"Run All\").*\n",
    "\n",
    "--\n",
    "### Motivation \n",
    "\n",
    "Mundell’s redundancy (or \"n-1\") problem illustrates how international finance can be interpreted by some as a zero-sum game, with many prisoners dilemma problems. Such a view logically leads some countries to try to \"game\" the international monetary system, first and foremost through their managed floating currencies (hence the vocabulary around \"manipulation\" on what concerns exchange rate levels).  \n",
    "\n",
    "\n",
    "Here we provide a model and simulations in an interactive Notebook format to load and play directly with the Matlab code **to examine how international monetary systems relying on specified nominal anchors (silver and gold, sterling then USD, bancor sometimes maybe)** - though the most \"natural\" form of anchoring, as it provides a solution to commitment and reneging issues - **create incentives that might be correlated with hegemonic wars** *(political scientists - Wallerstein, Modelski, Organski or more recently Goldstein - have long explored these cycles, but economists also advanced some causal hypothesis. Vilfredo Pareto in his \"Forme di fenomeni economici e previsioni\" for instance postulated that ascending and descending phases in international trade are linked to more or less available saving levels, and that period of social unrest and cross-country wars occur in such descending phases)*.\n",
    "\n",
    "--\n",
    "### A role for mechanism design in macro-finance \n",
    "\n",
    "Since the dollar unpegged from gold and some currencies started to float, exchange rate manipulation has been tolerated up to some point - principally because of the increased difficulty in pinpointing exactly what the \"fair\" parity between the two legs of a currency pair would be, which itslef would influence in return all other currency pairs these two legs are involved in.\n",
    "\n",
    "new definition of what \"fair\" means - agreelents among countries now\n",
    "\n",
    "**The global loosening of the monetary anchoring since 1971 (no rules determines how much USD can or should be printed to optimize the global economy) might further exacerbates this exchange rate indeterminancy**, as the seminal result by Kareken and Wallace (1981) that the nominal exchange rate is indeterminate in a world with pure interest rate targets has been extended (Caballero, Farhi, Gourinchas, 2015) to the case when the global economy is in a liquidity trap. \n",
    "\n",
    "In fact, there are now several competing theories aiming at explaining the secular decline in global real interest rates over much of the past 30 years touch upon the loosening of the anchoring ; none of them explicitly examines how the anchoring of the international monetary system might (or might not) play a role in this phenomenon. We would thus try provide here a framework based on modelling the anchoring, notably on expliciting parameters changed between now and the Gold Standard, and before/after 1971, which might provide a link with both the safe asset shortage hypothesis and Borio's financial cycle hypothesis.\n",
    "\n",
    "\n",
    "\n",
    "- what costs for manipulation\n",
    "- is it a big deal that there is manipulation ? (war ?)\n",
    "    - if yield curve control can work\n",
    "        - unified view of Safe asset Shortage and Borio's financial cycle hypothesis\n",
    "    - how parallel financial systems might emerge\n",
    "    - when Triffin events\n",
    "- or no constraint for countries to default\n",
    "\n",
    "Then introduce Graeber/game theory\n",
    "\n",
    "--\n",
    "### A role for mechanism design in macro-finance \n",
    "\n",
    "Our model ...\n",
    "\n",
    "\n",
    "We will then offer in this paper a dynamic upgrade of Mundell’s redundancy problem integrating debts, growth and interest rates, that highlights the process under which a dominant reserve currency emerges, negative incentives it generates in the process, and monetary tools to mitigate such side effects.\n",
    "\n",
    "Indeed, one of the main insight of this model is on how simple forms of privacy- preserving aggregate demand and supply estimation could lead to more flexible forms of anchoring. We thus derive an illustrative example built on currently mature privacy-preserving technologies and provide a concrete implementation of the previously theoretic ”planner” dear to mechanism designers - here to guarantee flexibility in the anchoring, and thus long term monetary stability and equality of opportunities. \n",
    "\n",
    "Our applied protocol, first presented as an extension of the optimal borrowing-lending/insurance literature, is then implemented in simulations of different post Covid-19 debt sustainability scenarii. Finally, some features highlighted by the simulations let us postulate that such flexible monetary anchoring performs better not only facing ”the three inescapable problems” associated with changes and transitions in monetary systems: ”the disruption of foreign exchanges and the collapse of monetary and credit systems”, ”the restoration of foreign trade”, and ”the supply of the capital that will be needed virtually throughout the world for reconstruction, for relief and for economic recovery” (White, 1942), but also during periods of stability, by providing parameters through which analyze and control global natural rates."
   ]
  },
  {
   "cell_type": "code",
   "execution_count": null,
   "metadata": {},
   "outputs": [],
   "source": []
  }
 ],
 "metadata": {
  "kernelspec": {
   "display_name": "Python 3",
   "language": "python",
   "name": "python3"
  },
  "language_info": {
   "codemirror_mode": {
    "name": "ipython",
    "version": 3
   },
   "file_extension": ".py",
   "mimetype": "text/x-python",
   "name": "python",
   "nbconvert_exporter": "python",
   "pygments_lexer": "ipython3",
   "version": "3.7.7"
  }
 },
 "nbformat": 4,
 "nbformat_minor": 4
}
